{
 "cells": [
  {
   "cell_type": "code",
   "execution_count": null,
   "id": "aa8f7ee8",
   "metadata": {},
   "outputs": [],
   "source": []
  },
  {
   "cell_type": "code",
   "execution_count": 1,
   "id": "a3072651",
   "metadata": {},
   "outputs": [
    {
     "name": "stdout",
     "output_type": "stream",
     "text": [
      "The transformed data is:  [46, -16, 0, -7, 20, -10, -10, 10]\n",
      "The reconstructed data is:  [66, 26, 46, 46, 46, 46, 56, 36]\n"
     ]
    },
    {
     "data": {
      "image/png": "[encoded data removed]",
      "text/plain": [
       "<Figure size 432x288 with 1 Axes>"
      ]
     },
     "metadata": {
      "needs_background": "light"
     },
     "output_type": "display_data"
    }
   ],
   "source": [
    "# importing matplotlib library\n",
    "import matplotlib.pyplot as plt\n",
    "\n",
    "\n",
    "# utility function to get the smallest power of 2\n",
    "# greater than or equal to the given number\n",
    "def power2(x):\n",
    "    ans = 1\n",
    "    if x and not(x & (x-1)):\n",
    "        return x\n",
    "    while ans < x:\n",
    "        ans <<= 1\n",
    "    return ans\n",
    "\n",
    "\n",
    "# performs HAAR wavelet transformations on the input list\n",
    "# the recursive function inside performs the wavelet transformation\n",
    "def transform(inp):\n",
    "    high = power2(len(inp))\n",
    "\n",
    "    while len(inp) < high:\n",
    "        inp.append(0)\n",
    "\n",
    "    def util(arr, l):\n",
    "        if l == 1:\n",
    "            return arr\n",
    "        mid = l//2\n",
    "        new_arr = arr.copy()\n",
    "        for i in range(mid):\n",
    "            new_arr[i] = (arr[2*i] + arr[2*i+1])//2\n",
    "            new_arr[i+mid] = arr[2*i] - new_arr[i]\n",
    "\n",
    "        return util(new_arr, mid)\n",
    "\n",
    "    transformed = util(inp, len(inp))\n",
    "    return transformed\n",
    "\n",
    "\n",
    "# reconstructs new data from the input list after discarding\n",
    "# values less than the given threshold\n",
    "def inverse(inp, threshold):\n",
    "    high = power2(len(inp))\n",
    "\n",
    "    while len(inp) < high:\n",
    "        inp.append(0)\n",
    "\n",
    "    inp = [0 if i < threshold else i for i in inp]\n",
    "\n",
    "    def inverseUtil(inp, l):\n",
    "        if l == len(inp):\n",
    "            return inp\n",
    "\n",
    "        mid = l*2\n",
    "        new_arr = inp.copy()\n",
    "        for i in range(l):\n",
    "            new_arr[2*i] = inp[i] + inp[i+l]\n",
    "            new_arr[2*i+1] = inp[i] - inp[i+l]\n",
    "\n",
    "        return inverseUtil(new_arr, mid)\n",
    "\n",
    "    reconstructed = inverseUtil(inp, 1)\n",
    "    return reconstructed\n",
    "\n",
    "\n",
    "# Example input:\n",
    "# inp = [ ]\n",
    "# transformed = transform(inp)\n",
    "# threshold = 10\n",
    "# reconstructed = inverse(transformed, threshold)\n",
    "inp = input(\"Enter the data values of any size and length: \").split()\n",
    "inp = [int(i) for i in inp]\n",
    "\n",
    "transformed = transform(inp)\n",
    "print(\"The transformed data is: \", transformed)\n",
    "\n",
    "threshold = int(input(\"Enter the threshold value: \"))\n",
    "reconstructed = inverse(transformed, threshold)\n",
    "print(\"The reconstructed data is: \", reconstructed)\n",
    "\n",
    "# Plotting of all the data\n",
    "plt.plot(inp, label=\"Input data\")\n",
    "plt.plot(transformed, label=\"Transformed data\")\n",
    "plt.plot(reconstructed, label=\"Reconstructed data\")\n",
    "plt.legend(loc=\"lower left\")\n",
    "plt.show()\n"
   ]
  },
  {
   "cell_type": "code",
   "execution_count": null,
   "id": "93e43f3f",
   "metadata": {},
   "outputs": [],
   "source": []
  },
  {
   "cell_type": "code",
   "execution_count": null,
   "id": "3ccace66",
   "metadata": {},
   "outputs": [],
   "source": []
  }
 ],
 "metadata": {
  "kernelspec": {
   "display_name": "Python 3 (ipykernel)",
   "language": "python",
   "name": "python3"
  },
  "language_info": {
   "codemirror_mode": {
    "name": "ipython",
    "version": 3
   },
   "file_extension": ".py",
   "mimetype": "text/x-python",
   "name": "python",
   "nbconvert_exporter": "python",
   "pygments_lexer": "ipython3",
   "version": "3.9.7"
  }
 },
 "nbformat": 4,
 "nbformat_minor": 5
}

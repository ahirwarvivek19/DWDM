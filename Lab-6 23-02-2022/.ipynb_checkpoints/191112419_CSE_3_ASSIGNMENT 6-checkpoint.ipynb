{
 "cells": [
  {
   "cell_type": "markdown",
   "metadata": {},
   "source": [
    "Vivek Kumar Ahirwar 191112419\n",
    "    \n",
    "Assignment - 6"
   ]
  },
  {
   "cell_type": "markdown",
   "metadata": {},
   "source": [
    "# Assignment Problem"
   ]
  },
  {
   "cell_type": "markdown",
   "metadata": {},
   "source": [
    "Q1: Using the data for age and fare attribute given in Titanic dataset,\n",
    "    \n",
    "    a) WAP to Plot histogram using singleton bucket.\n",
    "    b) WAP to Plot an equal-width histogram of width 10.\n",
    "    \n",
    "Q2: Using the data for age attribute given in Titanic dataset, WAP to perform following sampling techniques (Select 30% samples with following methods)\n",
    "    \n",
    "    a) Simple Random Sampling With Replacement.\n",
    "    b) Simple Random Sampling Without Replacement.\n",
    "    c) Stratified Sampling. (use three intervals as per the range of attribute)\n",
    "    d) Calculate mean and standard deviation after sampling and compare it with mean and standard deviation of original data\n",
    "\n",
    "Q3: Using the data for age and fare attribute given in Titanic dataset,\n",
    "    \n",
    "    a) WAP for min-max normalization onto the range [0, 1].\n",
    "    b) WAP for z-score normalization.\n",
    "    c) WAP to perform decimal scaling.\n",
    "    d) Calculate mean and standard deviation after all types of normalization and compare it with mean and standard deviation of original data."
   ]
  },
  {
   "cell_type": "markdown",
   "metadata": {},
   "source": [
    "# Approach Used"
   ]
  },
  {
   "cell_type": "markdown",
   "metadata": {},
   "source": [
    "Using dataframe of pandas library to store the excel titanic data and numpy libraries to perform basic functions such as mean, median, mode, sum, etc. Also, pyplot to plot the various data generated in the process."
   ]
  },
  {
   "cell_type": "markdown",
   "metadata": {},
   "source": [
    "<p><p style=\"page-break-after:always;\"></p></p>"
   ]
  },
  {
   "cell_type": "markdown",
   "metadata": {},
   "source": [
    "# Code & Output"
   ]
  },
  {
   "cell_type": "markdown",
   "metadata": {},
   "source": [
    "<h4>Import all libraries</h4>"
   ]
  },
  {
   "cell_type": "code",
   "execution_count": 1,
   "metadata": {},
   "outputs": [],
   "source": [
    "import math\n",
    "import random\n",
    "import numpy as np\n",
    "import pandas as pd\n",
    "import matplotlib.pyplot as plt\n"
   ]
  },
  {
   "cell_type": "markdown",
   "metadata": {},
   "source": [
    "<h4>Import the data from the excel sheet</h4>"
   ]
  },
  {
   "cell_type": "code",
   "execution_count": 2,
   "metadata": {},
   "outputs": [
    {
     "data": {
      "text/html": [
       "<div>\n",
       "<style scoped>\n",
       "    .dataframe tbody tr th:only-of-type {\n",
       "        vertical-align: middle;\n",
       "    }\n",
       "\n",
       "    .dataframe tbody tr th {\n",
       "        vertical-align: top;\n",
       "    }\n",
       "\n",
       "    .dataframe thead th {\n",
       "        text-align: right;\n",
       "    }\n",
       "</style>\n",
       "<table border=\"1\" class=\"dataframe\">\n",
       "  <thead>\n",
       "    <tr style=\"text-align: right;\">\n",
       "      <th></th>\n",
       "      <th>pclass</th>\n",
       "      <th>survived</th>\n",
       "      <th>name</th>\n",
       "      <th>sex</th>\n",
       "      <th>age</th>\n",
       "      <th>sibsp</th>\n",
       "      <th>parch</th>\n",
       "      <th>ticket</th>\n",
       "      <th>fare</th>\n",
       "      <th>embarked</th>\n",
       "    </tr>\n",
       "  </thead>\n",
       "  <tbody>\n",
       "    <tr>\n",
       "      <th>0</th>\n",
       "      <td>1</td>\n",
       "      <td>1</td>\n",
       "      <td>Allen, Miss. Elisabeth Walton</td>\n",
       "      <td>female</td>\n",
       "      <td>29.0000</td>\n",
       "      <td>0</td>\n",
       "      <td>0</td>\n",
       "      <td>24160</td>\n",
       "      <td>211.3375</td>\n",
       "      <td>S</td>\n",
       "    </tr>\n",
       "    <tr>\n",
       "      <th>1</th>\n",
       "      <td>1</td>\n",
       "      <td>1</td>\n",
       "      <td>Allison, Master. Hudson Trevor</td>\n",
       "      <td>male</td>\n",
       "      <td>0.9167</td>\n",
       "      <td>1</td>\n",
       "      <td>2</td>\n",
       "      <td>113781</td>\n",
       "      <td>151.5500</td>\n",
       "      <td>S</td>\n",
       "    </tr>\n",
       "    <tr>\n",
       "      <th>2</th>\n",
       "      <td>1</td>\n",
       "      <td>0</td>\n",
       "      <td>Allison, Miss. Helen Loraine</td>\n",
       "      <td>female</td>\n",
       "      <td>2.0000</td>\n",
       "      <td>1</td>\n",
       "      <td>2</td>\n",
       "      <td>113781</td>\n",
       "      <td>151.5500</td>\n",
       "      <td>S</td>\n",
       "    </tr>\n",
       "    <tr>\n",
       "      <th>3</th>\n",
       "      <td>1</td>\n",
       "      <td>0</td>\n",
       "      <td>Allison, Mr. Hudson Joshua Creighton</td>\n",
       "      <td>male</td>\n",
       "      <td>30.0000</td>\n",
       "      <td>1</td>\n",
       "      <td>2</td>\n",
       "      <td>113781</td>\n",
       "      <td>151.5500</td>\n",
       "      <td>S</td>\n",
       "    </tr>\n",
       "    <tr>\n",
       "      <th>4</th>\n",
       "      <td>1</td>\n",
       "      <td>0</td>\n",
       "      <td>Allison, Mrs. Hudson J C (Bessie Waldo Daniels)</td>\n",
       "      <td>female</td>\n",
       "      <td>25.0000</td>\n",
       "      <td>1</td>\n",
       "      <td>2</td>\n",
       "      <td>113781</td>\n",
       "      <td>151.5500</td>\n",
       "      <td>S</td>\n",
       "    </tr>\n",
       "    <tr>\n",
       "      <th>...</th>\n",
       "      <td>...</td>\n",
       "      <td>...</td>\n",
       "      <td>...</td>\n",
       "      <td>...</td>\n",
       "      <td>...</td>\n",
       "      <td>...</td>\n",
       "      <td>...</td>\n",
       "      <td>...</td>\n",
       "      <td>...</td>\n",
       "      <td>...</td>\n",
       "    </tr>\n",
       "    <tr>\n",
       "      <th>1304</th>\n",
       "      <td>3</td>\n",
       "      <td>0</td>\n",
       "      <td>Zabour, Miss. Hileni</td>\n",
       "      <td>female</td>\n",
       "      <td>14.5000</td>\n",
       "      <td>1</td>\n",
       "      <td>0</td>\n",
       "      <td>2665</td>\n",
       "      <td>14.4542</td>\n",
       "      <td>C</td>\n",
       "    </tr>\n",
       "    <tr>\n",
       "      <th>1305</th>\n",
       "      <td>3</td>\n",
       "      <td>0</td>\n",
       "      <td>Zabour, Miss. Thamine</td>\n",
       "      <td>female</td>\n",
       "      <td>NaN</td>\n",
       "      <td>1</td>\n",
       "      <td>0</td>\n",
       "      <td>2665</td>\n",
       "      <td>14.4542</td>\n",
       "      <td>C</td>\n",
       "    </tr>\n",
       "    <tr>\n",
       "      <th>1306</th>\n",
       "      <td>3</td>\n",
       "      <td>0</td>\n",
       "      <td>Zakarian, Mr. Mapriededer</td>\n",
       "      <td>male</td>\n",
       "      <td>26.5000</td>\n",
       "      <td>0</td>\n",
       "      <td>0</td>\n",
       "      <td>2656</td>\n",
       "      <td>7.2250</td>\n",
       "      <td>C</td>\n",
       "    </tr>\n",
       "    <tr>\n",
       "      <th>1307</th>\n",
       "      <td>3</td>\n",
       "      <td>0</td>\n",
       "      <td>Zakarian, Mr. Ortin</td>\n",
       "      <td>male</td>\n",
       "      <td>27.0000</td>\n",
       "      <td>0</td>\n",
       "      <td>0</td>\n",
       "      <td>2670</td>\n",
       "      <td>7.2250</td>\n",
       "      <td>C</td>\n",
       "    </tr>\n",
       "    <tr>\n",
       "      <th>1308</th>\n",
       "      <td>3</td>\n",
       "      <td>0</td>\n",
       "      <td>Zimmerman, Mr. Leo</td>\n",
       "      <td>male</td>\n",
       "      <td>29.0000</td>\n",
       "      <td>0</td>\n",
       "      <td>0</td>\n",
       "      <td>315082</td>\n",
       "      <td>7.8750</td>\n",
       "      <td>S</td>\n",
       "    </tr>\n",
       "  </tbody>\n",
       "</table>\n",
       "<p>1309 rows × 10 columns</p>\n",
       "</div>"
      ],
      "text/plain": [
       "      pclass  survived                                             name  \\\n",
       "0          1         1                    Allen, Miss. Elisabeth Walton   \n",
       "1          1         1                   Allison, Master. Hudson Trevor   \n",
       "2          1         0                     Allison, Miss. Helen Loraine   \n",
       "3          1         0             Allison, Mr. Hudson Joshua Creighton   \n",
       "4          1         0  Allison, Mrs. Hudson J C (Bessie Waldo Daniels)   \n",
       "...      ...       ...                                              ...   \n",
       "1304       3         0                             Zabour, Miss. Hileni   \n",
       "1305       3         0                            Zabour, Miss. Thamine   \n",
       "1306       3         0                        Zakarian, Mr. Mapriededer   \n",
       "1307       3         0                              Zakarian, Mr. Ortin   \n",
       "1308       3         0                               Zimmerman, Mr. Leo   \n",
       "\n",
       "         sex      age  sibsp  parch  ticket      fare embarked  \n",
       "0     female  29.0000      0      0   24160  211.3375        S  \n",
       "1       male   0.9167      1      2  113781  151.5500        S  \n",
       "2     female   2.0000      1      2  113781  151.5500        S  \n",
       "3       male  30.0000      1      2  113781  151.5500        S  \n",
       "4     female  25.0000      1      2  113781  151.5500        S  \n",
       "...      ...      ...    ...    ...     ...       ...      ...  \n",
       "1304  female  14.5000      1      0    2665   14.4542        C  \n",
       "1305  female      NaN      1      0    2665   14.4542        C  \n",
       "1306    male  26.5000      0      0    2656    7.2250        C  \n",
       "1307    male  27.0000      0      0    2670    7.2250        C  \n",
       "1308    male  29.0000      0      0  315082    7.8750        S  \n",
       "\n",
       "[1309 rows x 10 columns]"
      ]
     },
     "metadata": {},
     "output_type": "display_data"
    }
   ],
   "source": [
    "data = pd.read_excel('titanic.xls')\n",
    "display(data)"
   ]
  },
  {
   "cell_type": "markdown",
   "metadata": {},
   "source": [
    "<p><p style=\"page-break-after:always;\"></p></p>"
   ]
  },
  {
   "cell_type": "code",
   "execution_count": 3,
   "metadata": {},
   "outputs": [],
   "source": [
    "# filling all missing values in age and fare with mean values\n",
    "\n",
    "data['age'].fillna(value=data['age'].mean(axis=0, skipna=True), inplace=True)\n",
    "data['fare'].fillna(value=data['fare'].mean(axis=0, skipna=True), inplace=True)\n"
   ]
  },
  {
   "cell_type": "markdown",
   "metadata": {},
   "source": [
    "### Q1. Plot Histograms"
   ]
  },
  {
   "cell_type": "markdown",
   "metadata": {},
   "source": [
    "#### Histogram using singleton bucket"
   ]
  },
  {
   "cell_type": "code",
   "execution_count": 4,
   "metadata": {},
   "outputs": [
    {
     "data": {
      "image/png": "[encoded data removed]",
      "text/plain": [
       "<Figure size 1728x720 with 2 Axes>"
      ]
     },
     "metadata": {
      "needs_background": "light"
     },
     "output_type": "display_data"
    }
   ],
   "source": [
    "# Histogram using singleton bucket\n",
    "fig, axs = plt.subplots(1, 2, figsize=(24, 10))\n",
    "axs[0].hist(data['age'], bins=math.ceil(data['age'].max()))\n",
    "axs[0].set_title('Age')\n",
    "axs[1].hist(data['fare'], bins=math.ceil(data['fare'].max()))\n",
    "axs[1].set_title('Fare')\n",
    "plt.show()"
   ]
  },
  {
   "cell_type": "markdown",
   "metadata": {},
   "source": [
    "#### Equal-width histogram of width 10"
   ]
  },
  {
   "cell_type": "code",
   "execution_count": 5,
   "metadata": {},
   "outputs": [
    {
     "data": {
      "image/png": "[encoded data removed]",
      "text/plain": [
       "<Figure size 1728x720 with 2 Axes>"
      ]
     },
     "metadata": {
      "needs_background": "light"
     },
     "output_type": "display_data"
    }
   ],
   "source": [
    "fig, axs = plt.subplots(1, 2, figsize=(24, 10))\n",
    "axs[0].hist(data['age'], bins=math.ceil(data['age'].max()/10))\n",
    "axs[1].hist(data['fare'], bins=math.ceil(data['fare'].max()/10))\n",
    "plt.show()"
   ]
  },
  {
   "cell_type": "markdown",
   "metadata": {},
   "source": [
    "<p><p style=\"page-break-after:always;\"></p></p>"
   ]
  },
  {
   "cell_type": "markdown",
   "metadata": {},
   "source": [
    "### Q2. WAP to perform following sampling techniques."
   ]
  },
  {
   "cell_type": "markdown",
   "metadata": {},
   "source": [
    "#### Simple Random Sampling With Replacement"
   ]
  },
  {
   "cell_type": "code",
   "execution_count": 6,
   "metadata": {},
   "outputs": [],
   "source": [
    "\n",
    "def random_sampling_replacement(arr):\n",
    "    sz = len(arr)\n",
    "    sample_size = math.ceil(sz * 0.3)\n",
    "    sample = []\n",
    "    for i in range(sample_size + 1):\n",
    "        sample.append(arr[random.randint(0, sz-1)])\n",
    "    return sample"
   ]
  },
  {
   "cell_type": "markdown",
   "metadata": {},
   "source": [
    "#### Simple Random Sampling Without Replacement"
   ]
  },
  {
   "cell_type": "code",
   "execution_count": 7,
   "metadata": {},
   "outputs": [],
   "source": [
    "def random_sampling_noreplacement(arr):\n",
    "    sz = len(arr)\n",
    "    sample_size = math.ceil(sz * 0.3)\n",
    "    sample_index = []\n",
    "    sample = []\n",
    "    for i in range(sample_size + 1):\n",
    "        index = random.randint(0, sz-1)\n",
    "        if index not in sample_index:\n",
    "            sample_index.append(index)\n",
    "            sample.append(arr[index])\n",
    "    return sample"
   ]
  },
  {
   "cell_type": "markdown",
   "metadata": {},
   "source": [
    "#### Stratified Sampling"
   ]
  },
  {
   "cell_type": "code",
   "execution_count": 8,
   "metadata": {},
   "outputs": [],
   "source": [
    "def stratified_sampling(arr):\n",
    "    sz = len(arr)\n",
    "    clusters = [[], [], []]\n",
    "    mn = min(arr)\n",
    "    mx = max(arr)\n",
    "    w = (mx - mn) / 3\n",
    "    for i in range(sz):\n",
    "        if arr[i] <= mn + w:\n",
    "            clusters[0].append(arr[i])\n",
    "        elif arr[i] <= mn + 2 * w:\n",
    "            clusters[1].append(arr[i])\n",
    "        elif arr[i] <= mn + 3 * w:\n",
    "            clusters[2].append(arr[i])\n",
    "    sample = []\n",
    "    for i in range(3):\n",
    "        sz = len(clusters[i])\n",
    "        sample_size = math.ceil(sz * 0.3)\n",
    "        sample_index = []\n",
    "        for j in range(sample_size + 1):\n",
    "            index = random.randint(0, sz-1)\n",
    "            if index not in sample_index:\n",
    "                sample_index.append(index)\n",
    "                sample.append(clusters[i][index])\n",
    "    return sample"
   ]
  },
  {
   "cell_type": "code",
   "execution_count": 9,
   "metadata": {},
   "outputs": [],
   "source": [
    "def calculation(x):\n",
    "    sz = len(x)\n",
    "    xm = round(sum(x)/sz, 3)\n",
    "    s = 0\n",
    "    for i in range(sz):\n",
    "        s += ((x[i] - xm)**2)\n",
    "    xvar = s / sz\n",
    "    xdev = xvar**0.5\n",
    "    return (xm, round(xdev, 3))"
   ]
  },
  {
   "cell_type": "markdown",
   "metadata": {},
   "source": [
    "<p><p style=\"page-break-after:always;\"></p></p>"
   ]
  },
  {
   "cell_type": "markdown",
   "metadata": {},
   "source": [
    "#### Mean and standard deviation after sampling and of original data"
   ]
  },
  {
   "cell_type": "code",
   "execution_count": 10,
   "metadata": {},
   "outputs": [
    {
     "name": "stdout",
     "output_type": "stream",
     "text": [
      "Sample type                                 (Mean, Standard Deviation)\n",
      "\n",
      "Simple Random Sampling With Replacement     (30.035, 13.166)\n",
      "Simple Random Sampling Without Replacement  (29.135, 12.835)\n",
      "Stratified Sampling                         (30.621, 12.766)\n",
      "Original Data                               (29.881, 12.878)\n"
     ]
    }
   ],
   "source": [
    "\n",
    "\n",
    "sample_random_replacement = random_sampling_replacement(list(data['age']))\n",
    "sample_random_noreplacement = random_sampling_noreplacement(list(data['age']))\n",
    "sample_stratified = stratified_sampling(list(data['age']))\n",
    "\n",
    "print(f\"Sample type                                 (Mean, Standard Deviation)\", end='\\n\\n')\n",
    "print(f\"Simple Random Sampling With Replacement     {calculation(sample_random_replacement)}\")\n",
    "print(f\"Simple Random Sampling Without Replacement  {calculation(sample_random_noreplacement)}\")\n",
    "print(f\"Stratified Sampling                         {calculation(sample_stratified)}\")\n",
    "print(f\"Original Data                               {calculation(list(data['age']))}\")"
   ]
  },
  {
   "cell_type": "markdown",
   "metadata": {},
   "source": [
    "### Q3. Perform all types of normalisation"
   ]
  },
  {
   "cell_type": "markdown",
   "metadata": {},
   "source": [
    "#### Min-max normalization onto the range [0, 1]"
   ]
  },
  {
   "cell_type": "code",
   "execution_count": 11,
   "metadata": {},
   "outputs": [],
   "source": [
    "def min_max_normalize(x):\n",
    "    mn = min(x)\n",
    "    mx = max(x)\n",
    "    for i in range(len(x)):\n",
    "        x[i] = (x[i] - mn) / (mx - mn)\n",
    "    return x"
   ]
  },
  {
   "cell_type": "markdown",
   "metadata": {},
   "source": [
    "#### Z-score normalization"
   ]
  },
  {
   "cell_type": "code",
   "execution_count": 12,
   "metadata": {},
   "outputs": [],
   "source": [
    "def z_score_normalize(x):\n",
    "    mean, stddev = calculation(x)\n",
    "    for i in range(len(x)):\n",
    "        x[i] = (x[i] - mean) / stddev\n",
    "    return x"
   ]
  },
  {
   "cell_type": "markdown",
   "metadata": {},
   "source": [
    "#### Decimal Scaling"
   ]
  },
  {
   "cell_type": "code",
   "execution_count": 13,
   "metadata": {},
   "outputs": [],
   "source": [
    "def decimal_scaling(x):\n",
    "    num = math.floor(math.log(max(x), 10)) + 1\n",
    "    for i in range(len(x)):\n",
    "        x[i] /= num\n",
    "    return x"
   ]
  },
  {
   "cell_type": "markdown",
   "metadata": {},
   "source": [
    "#### Mean and standard deviation after all normalization and of original data"
   ]
  },
  {
   "cell_type": "code",
   "execution_count": 14,
   "metadata": {},
   "outputs": [
    {
     "name": "stdout",
     "output_type": "stream",
     "text": [
      "Normalization               (Mean, Standard Deviation)\n",
      "\n",
      "Min Max Normalization       (0.372, 0.161)\n",
      "Z Score Normalization       (0.0, 1.0)\n",
      "Decimal Scaling             (14.941, 6.439)\n",
      "Original Data               (29.881, 12.878)\n"
     ]
    }
   ],
   "source": [
    "min_max_data = min_max_normalize(list(data['age'])) \n",
    "z_score_data = z_score_normalize(list(data['age'])) \n",
    "decimal_data = decimal_scaling(list(data['age']))\n",
    "print(f\"Normalization               (Mean, Standard Deviation)\", end='\\n\\n')\n",
    "print(f\"Min Max Normalization       {calculation(min_max_data)}\")\n",
    "print(f\"Z Score Normalization       {calculation(z_score_data)}\")\n",
    "print(f\"Decimal Scaling             {calculation(decimal_data)}\")\n",
    "print(f\"Original Data               {calculation(list(data['age']))}\")"
   ]
  }
 ],
 "metadata": {
  "interpreter": {
   "hash": "1baa965d5efe3ac65b79dfc60c0d706280b1da80fedb7760faf2759126c4f253"
  },
  "kernelspec": {
   "display_name": "Python 3 (ipykernel)",
   "language": "python",
   "name": "python3"
  },
  "language_info": {
   "codemirror_mode": {
    "name": "ipython",
    "version": 3
   },
   "file_extension": ".py",
   "mimetype": "text/x-python",
   "name": "python",
   "nbconvert_exporter": "python",
   "pygments_lexer": "ipython3",
   "version": "3.9.7"
  }
 },
 "nbformat": 4,
 "nbformat_minor": 2
}

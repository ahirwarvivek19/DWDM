{
 "cells": [
  {
   "cell_type": "markdown",
   "metadata": {},
   "source": [
    "Vivek Kumar Ahirwar 191112419\n",
    "    \n",
    "Assignment - 6"
   ]
  },
  {
   "cell_type": "markdown",
   "metadata": {},
   "source": [
    "# Assignment Problem"
   ]
  },
  {
   "cell_type": "markdown",
   "metadata": {},
   "source": []
  },
  {
   "cell_type": "markdown",
   "metadata": {},
   "source": [
    "# Approach Used"
   ]
  },
  {
   "cell_type": "markdown",
   "metadata": {},
   "source": [
    "Using dataframe of pandas library to store the excel titanic data and numpy libraries to perform basic functions such as mean, median, mode, sum, etc. Also, pyplot to plot the various data generated in the process."
   ]
  },
  {
   "cell_type": "markdown",
   "metadata": {},
   "source": [
    "<p><p style=\"page-break-after:always;\"></p></p>"
   ]
  },
  {
   "cell_type": "markdown",
   "metadata": {},
   "source": [
    "# Code & Output"
   ]
  },
  {
   "cell_type": "markdown",
   "metadata": {},
   "source": [
    "<h4>Import all libraries</h4>"
   ]
  },
  {
   "cell_type": "code",
   "execution_count": 3,
   "metadata": {},
   "outputs": [],
   "source": [
    "from collections import defaultdict import numpy as np\n",
    "import pandas as pd import pprint\n"
   ]
  },
  {
   "cell_type": "code",
   "execution_count": 4,
   "metadata": {},
   "outputs": [
    {
     "name": "stdout",
     "output_type": "stream",
     "text": [
      "age\n",
      "\tmiddle_aged ->  ['yes']\n",
      "\n",
      "\tsenior\n",
      "\t\tcredit-rating\n",
      "\t\t\texcellent ->  ['no']\n",
      "\n",
      "\t\t\tfair ->  ['yes']\n",
      "\n",
      "\tyouth\n",
      "\t\tstudent\n",
      "\t\t\tno ->  ['no']\n",
      "\n",
      "\t\t\tyes ->  ['yes']\n",
      "\n"
     ]
    }
   ],
   "source": [
    "\n",
    "\n",
    "eps  =  np.finfo(float).eps\n",
    "\n",
    "\n",
    "class Dataset:\n",
    "    \"\"\"\n",
    "    The Dataset class is used to store the data and the labels. The df attribute is a pandas dataframe.\n",
    "    \"\"\"\n",
    "    age  =  ['youth',  'youth',  'middle_aged',  'senior',  'senior',  'senior',\n",
    "    ‹→\t'middle_aged',\n",
    "    'youth',  'youth',  'senior',  'youth',  'middle_aged',  'middle_aged',\n",
    "    ‹→\t'senior']\n",
    "    income  =  ['high',  'high',  'high',  'medium',  'low',  'low',  'low',\n",
    "    'medium',  'low',  'medium',  'medium',  'medium',  'high',  'medium']\n",
    "    student  =  ['no',  'no',  'no',  'no',  'yes',  'yes',  'yes',\n",
    "    'no',  'yes',  'yes',  'yes',  'no',  'yes',  'no']\n",
    "    credit_rating  =  ['fair',  'excellent',  'fair',  'fair',  'fair',  'excellent', 'excellent',  'fair',  'fair',  'fair',  'excellent',  'excellent',\n",
    "    ‹→\t'fair',  'excellent']\n",
    "\n",
    "    buys_computer  =  ['no',  'no',  'yes',  'yes',  'yes',  'no',\n",
    "    'yes',  'no',  'yes',  'yes',  'yes',  'yes',  'yes',  'no']\n",
    "\n",
    "    dataset =  {\n",
    "    'age':  age, 'income':  income, 'student':  student,\n",
    "    'credit_rating':  credit_rating, 'buys_computer':  buys_computer,\n",
    "    }\n",
    "\n",
    "    # The pandas dataframe containing the data.\n",
    "    df  =  pd.DataFrame(dataset,  columns=[\n",
    "    'age',  'income',  'student',  'credit_rating',  'buys_computer'])\n",
    "\n",
    "    @classmethod\n",
    "    def savetocsv(self): self.df.to_csv('data.csv',  index=False)\n",
    "\n",
    "\n",
    "class Id3DecisionTree:\n",
    "    \"\"\"\n",
    "    A Decision Tree class that  implements  the  ID3  algorithm. \"\"\"\n",
    "\n",
    "    def      init    (self,  df)  ->  None:\n",
    "        \"\"\"\n",
    "        Initializes the decision tree with a dataframe.\n",
    "\n",
    "        :param df: The dataframe containing the data. \"\"\"\n",
    "        self.df  =  df\n",
    "        self.tree  =  defaultdict()\n",
    "\n",
    "    def information_gain_entire(self) -> float:\n",
    "        \"\"\"\n",
    "        Calculates the information gain of the entire dataset.\n",
    "\n",
    "        :return: The information gain of the entire dataset. \"\"\"\n",
    "        info =  0\n",
    "        output_labels  =  self.df['buys_computer'].unique() for  output  in  output_labels:\n",
    "        pi  =  self.df['buys_computer'].value_counts()[output]  /  \\ len(self.df['buys_computer'])\n",
    "        info  +=  -pi*np.log2(pi) return info\n",
    "    \n",
    "    def  information_gain_attribute(self,  attribute:  str)  ->  float:\n",
    "    \"\"\"\n",
    "    Calculates the information gain of a given attribute.\n",
    "\n",
    "    :param attribute: The attribute to calculate the information gain of.\n",
    "    :return: The information gain of the given attribute. \"\"\"\n",
    "\n",
    "    target_label  =  self.df['buys_computer'].unique() attribute_vars  =  self.df[attribute].unique()\n",
    "\n",
    "    info_attr  =  0\n",
    "\n",
    "    for attr in attribute_vars: info_feature = 0\n",
    "    for target in target_label:\n",
    "    pi_n  =  len(self.df[attribute][self.df[attribute]\n",
    "    ==  attr][self.df['buys_computer']  ==\n",
    "    ‹→\ttarget])\n",
    "    pi_d  =  len(self.df[attribute][self.df[attribute]  ==  attr]) pi = pi_n/(pi_d+eps)\n",
    "\n",
    "    info_feature  +=  -pi*np.log2(pi+eps) pi_ex  =  pi_d/len(self.df)\n",
    "    info_attr += pi_ex*info_feature return info_attr\n",
    "    def information_gain(self)  ->  defaultdict:\n",
    "    \"\"\"\n",
    "    Calculates the information gain of all the attributes except the target label.\n",
    "\n",
    "    :return: A dictionary containing the information gain of all the attributes. \"\"\"\n",
    "    info_gain_df  =  self.information_gain_entire() info_gain = defaultdict()\n",
    "    for  attr  in  self.df.keys()[:-1]: info_gain[attr] = info_gain_df - \\\n",
    "    self.information_gain_attribute(attr) return info_gain\n",
    "\n",
    "    def root_attribute(self) -> str:\n",
    "    \"\"\"\n",
    "    Calculates the root attribute of the decision tree.\n",
    "\n",
    "    :returns: The root attribute of the decision tree. \"\"\"\n",
    "    ig  =  [val  for  (key,  val)  in  self.information_gain().items()] return  self.df.keys()[:-1][np.argmax(ig)]\n",
    "\n",
    "    def  get_subtable(self,  node,  value)  ->  pd.DataFrame:\n",
    "    \"\"\"\n",
    "    Creates a subtable by filtering the dataframe based on the given node and\n",
    "    ‹→\tvalue.\n",
    "\n",
    "    :param node: The column to filter the dataframe by.\n",
    "    :param value: The attribute in the column to filter the dataframe by.\n",
    "\n",
    "    :return: A subtable of the dataframe. \"\"\"\n",
    "    return  self.df[self.df[node]  ==  value].reset_index(drop=True)\n",
    "\n",
    "    def      str   (self):\n",
    "    return  f'{pprint.pformat(self.tree,  indent=4)}'\n",
    "\n",
    "    def  print_tree(self,  tab=0):\n",
    "    \"\"\"\n",
    "    Prints the decision tree in a readable format.\n",
    "\n",
    "    :param tab: The number of tabs to indent the tree. \"\"\"\n",
    "    root  =  list(self.tree.keys())[0] print(root, '?')\n",
    "    for  key,  value  in  self.tree[root].items():\n",
    "    print('\\t'*tab, f\"|-{key} ->  \",  end=' ') if isinstance(value, Id3DecisionTree):\n",
    "    print_tree(value, tab+4) else:\n",
    "    print(value)\n",
    "\n",
    "    def  predict(self,  inp:  dict):\n",
    "    \"\"\"\n",
    "    Predict the output of the decision tree for a given input.\n",
    "\n",
    "    :param inp: The input to predict the output of the decision tree for. \"\"\"\n",
    "    root  =  list(self.tree.keys())[0] subtree  =  self.tree[root][inp[root]]\n",
    "    if isinstance(subtree, Id3DecisionTree): return make_prediction(subtree, inp)\n",
    "    return subtree\n",
    "\n",
    "\n",
    "    def  build_tree(df:  pd.DataFrame)  ->  Id3DecisionTree:\n",
    "        \"\"\"\n",
    "        Builds a decision tree for the given dataframe \"\"\"\n",
    "        parent_tree =  Id3DecisionTree(df) root  =  parent_tree.root_attribute()\n",
    "        parent_tree.tree[root]  =  defaultdict() attrOfRootNode  =  np.unique(parent_tree.df[root])\n",
    "        for attr in attrOfRootNode:\n",
    "        subtable  =  parent_tree.get_subtable(root,  attr) classValues  =  np.unique(subtable['buys_computer'])\n",
    "\n",
    "        if  (len(classValues))  ==  1:\n",
    "\n",
    "        parent_tree.tree[root][attr]  =  classValues[0] else:\n",
    "        parent_tree.tree[root][attr]  =  build_tree(subtable) return parent_tree\n",
    "\n",
    "    def make_prediction(dt, inp):\n",
    "        \"\"\"\n",
    "        Predicts the output of the decision tree for a given input. \"\"\"\n",
    "        root  =  list(dt.tree.keys())[0] subtree  =  dt.tree[root][inp[root]]\n",
    "        if isinstance(subtree, Id3DecisionTree): return make_prediction(subtree, inp)\n",
    "        return subtree\n",
    "\n",
    "\n",
    "    def print_tree(dt, tab=0):\n",
    "        root  =  list(dt.tree.keys())[0] print(root, '?')\n",
    "        for  key,  value  in  dt.tree[root].items():\n",
    "            print('\\t'*tab, f\"|-{key} ->  \",  end=' ') \n",
    "            if isinstance(value, Id3DecisionTree):\n",
    "                print_tree(value, tab+4) \n",
    "            else:\n",
    "                print(value)\n",
    "\n",
    "\n",
    "#  Build  the  decision  tree\n",
    "t  =  build_tree(Dataset.df)\n",
    "\n",
    "print(\"\\nThe decision tree is: \") t.print_tree()\n",
    "\n",
    "print(f'\\nthe  information  gain  is:  ',  *\n",
    "[(k,  v)  for  (k,  v)  in  t.information_gain().items()],  sep='\\n\\t')\n",
    "\n",
    "inp = {\n",
    "'age':  'youth',\n",
    "'income':  'low',\n",
    "'student':  'no', 'credit_rating':  'excellent',\n",
    "}\n",
    "\n",
    "\n",
    "print(\n",
    "f'\\nThe  prediction  for  the  input  {inp}  is:  \\033[1m{t.predict(inp)}\\033[0m')\n"
   ]
  },
  {
   "cell_type": "markdown",
   "metadata": {},
   "source": [
    "<h4>Import the data from the excel sheet</h4>"
   ]
  }
 ],
 "metadata": {
  "interpreter": {
   "hash": "1baa965d5efe3ac65b79dfc60c0d706280b1da80fedb7760faf2759126c4f253"
  },
  "kernelspec": {
   "display_name": "Python 3 (ipykernel)",
   "language": "python",
   "name": "python3"
  },
  "language_info": {
   "codemirror_mode": {
    "name": "ipython",
    "version": 3
   },
   "file_extension": ".py",
   "mimetype": "text/x-python",
   "name": "python",
   "nbconvert_exporter": "python",
   "pygments_lexer": "ipython3",
   "version": "3.9.7"
  }
 },
 "nbformat": 4,
 "nbformat_minor": 2
}
